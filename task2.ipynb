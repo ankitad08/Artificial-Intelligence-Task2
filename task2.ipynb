{
  "cells": [
    {
      "cell_type": "code",
      "execution_count": 1,
      "metadata": {
        "colab": {
          "base_uri": "https://localhost:8080/"
        },
        "id": "k2kT7On49gbE",
        "outputId": "7a24d9a1-7773-489e-c51d-2f77bffc604f"
      },
      "outputs": [
        {
          "output_type": "stream",
          "name": "stderr",
          "text": [
            "[nltk_data] Downloading package punkt to /root/nltk_data...\n",
            "[nltk_data]   Unzipping tokenizers/punkt.zip.\n",
            "[nltk_data] Downloading package stopwords to /root/nltk_data...\n",
            "[nltk_data]   Unzipping corpora/stopwords.zip.\n",
            "[nltk_data] Downloading package wordnet to /root/nltk_data...\n"
          ]
        }
      ],
      "source": [
        "import nltk\n",
        "from nltk.tokenize import word_tokenize\n",
        "from nltk.corpus import stopwords\n",
        "from nltk.stem import WordNetLemmatizer\n",
        "import string\n",
        "\n",
        "# Download NLTK resources (only needed the first time)\n",
        "nltk.download('punkt')\n",
        "nltk.download('stopwords')\n",
        "nltk.download('wordnet')\n",
        "\n",
        "# Initialize Lemmatizer and stop words\n",
        "lemmatizer = WordNetLemmatizer()\n",
        "stop_words = set(stopwords.words('english'))\n",
        "\n",
        "def preprocess(text):\n",
        "    # Tokenize and clean the text\n",
        "    tokens = word_tokenize(text.lower())  # Lowercase and tokenize\n",
        "    tokens = [t for t in tokens if t not in stop_words and t not in string.punctuation]  # Remove stop words and punctuation\n",
        "    tokens = [lemmatizer.lemmatize(t) for t in tokens]  # Lemmatize\n",
        "    return tokens\n"
      ]
    },
    {
      "cell_type": "code",
      "execution_count": 2,
      "metadata": {
        "id": "6sriRcSB9u_o"
      },
      "outputs": [],
      "source": [
        "import spacy\n",
        "\n",
        "# Load spaCy model\n",
        "nlp = spacy.load('en_core_web_sm')\n",
        "\n",
        "def preprocess(text):\n",
        "    doc = nlp(text.lower())\n",
        "    tokens = [token.lemma_ for token in doc if not token.is_stop and not token.is_punct]\n",
        "    return tokens\n"
      ]
    },
    {
      "cell_type": "code",
      "execution_count": 3,
      "metadata": {
        "id": "nMFfmoqy9zXf"
      },
      "outputs": [],
      "source": [
        "FAQS = {\n",
        "    \"What is your product?\": \"Our product is a chatbot solution designed to automate customer support.\",\n",
        "    \"How much does the product cost?\": \"The pricing depends on your requirements, but we offer several packages starting at $99/month.\",\n",
        "    \"How can I get support?\": \"You can contact our support team via email at support@example.com or call our helpline.\",\n",
        "    \"What features does the product have?\": \"Our chatbot has features like natural language understanding, integration with multiple platforms, and detailed analytics.\",\n",
        "}\n"
      ]
    },
    {
      "cell_type": "code",
      "execution_count": 4,
      "metadata": {
        "colab": {
          "base_uri": "https://localhost:8080/"
        },
        "id": "dJ2iJ9x695I4",
        "outputId": "432f83d7-26f7-4ce1-c38f-61f7242a58db"
      },
      "outputs": [
        {
          "output_type": "stream",
          "name": "stdout",
          "text": [
            "Q: What features does the product have?\n",
            "A: Our chatbot has features like natural language understanding, integration with multiple platforms, and detailed analytics.\n"
          ]
        }
      ],
      "source": [
        "from sklearn.feature_extraction.text import TfidfVectorizer\n",
        "from sklearn.metrics.pairwise import cosine_similarity\n",
        "import numpy as np\n",
        "\n",
        "def find_best_answer(user_query, faqs):\n",
        "    # Preprocess the FAQs and user query\n",
        "    faq_keys = list(faqs.keys())\n",
        "    documents = [preprocess(faq) for faq in faq_keys]\n",
        "    user_query_processed = preprocess(user_query)\n",
        "\n",
        "    # Use TF-IDF to measure similarity\n",
        "    vectorizer = TfidfVectorizer()\n",
        "    all_text = [' '.join(doc) for doc in documents + [user_query_processed]]\n",
        "    tfidf_matrix = vectorizer.fit_transform(all_text)\n",
        "\n",
        "    # Compute similarity\n",
        "    similarity_scores = cosine_similarity(tfidf_matrix[-1], tfidf_matrix[:-1]).flatten()\n",
        "    best_match_idx = np.argmax(similarity_scores)\n",
        "\n",
        "    # Return the most similar FAQ answer\n",
        "    return faq_keys[best_match_idx], faqs[faq_keys[best_match_idx]]\n",
        "\n",
        "# Example interaction\n",
        "user_input = \"Can you tell me about the features?\"\n",
        "best_question, best_answer = find_best_answer(user_input, FAQS)\n",
        "print(f\"Q: {best_question}\\nA: {best_answer}\")\n"
      ]
    },
    {
      "cell_type": "code",
      "execution_count": null,
      "metadata": {
        "colab": {
          "background_save": true,
          "base_uri": "https://localhost:8080/"
        },
        "id": "Fv2npb3z-CfF",
        "outputId": "2cce1a8d-0a9e-45dd-e90c-cd7bf0192c36"
      },
      "outputs": [
        {
          "output_type": "stream",
          "name": "stderr",
          "text": [
            "[nltk_data] Downloading package punkt to /root/nltk_data...\n",
            "[nltk_data]   Package punkt is already up-to-date!\n",
            "[nltk_data] Downloading package stopwords to /root/nltk_data...\n",
            "[nltk_data]   Package stopwords is already up-to-date!\n",
            "[nltk_data] Downloading package wordnet to /root/nltk_data...\n",
            "[nltk_data]   Package wordnet is already up-to-date!\n"
          ]
        },
        {
          "output_type": "stream",
          "name": "stdout",
          "text": [
            "Welcome to the FAQ chatbot! Ask me anything about our product.\n",
            "\n",
            "You: What features does the product have?\n",
            "Chatbot: Our chatbot has features like natural language understanding, integration with multiple platforms, and detailed analytics.\n"
          ]
        }
      ],
      "source": [
        "import nltk\n",
        "from nltk.tokenize import word_tokenize\n",
        "from nltk.corpus import stopwords\n",
        "from nltk.stem import WordNetLemmatizer\n",
        "from sklearn.feature_extraction.text import TfidfVectorizer\n",
        "from sklearn.metrics.pairwise import cosine_similarity\n",
        "import numpy as np\n",
        "import string\n",
        "\n",
        "# Download required NLTK resources\n",
        "nltk.download('punkt')\n",
        "nltk.download('stopwords')\n",
        "nltk.download('wordnet')\n",
        "\n",
        "# Initialize lemmatizer and stop words\n",
        "lemmatizer = WordNetLemmatizer()\n",
        "stop_words = set(stopwords.words('english'))\n",
        "\n",
        "# Preprocessing function\n",
        "def preprocess(text):\n",
        "    tokens = word_tokenize(text.lower())\n",
        "    tokens = [t for t in tokens if t not in stop_words and t not in string.punctuation]\n",
        "    tokens = [lemmatizer.lemmatize(t) for t in tokens]\n",
        "    return tokens\n",
        "\n",
        "# Sample FAQ data\n",
        "FAQS = {\n",
        "    \"What is your product?\": \"Our product is a chatbot solution designed to automate customer support.\",\n",
        "    \"How much does the product cost?\": \"The pricing depends on your requirements, but we offer several packages starting at $99/month.\",\n",
        "    \"How can I get support?\": \"You can contact our support team via email at support@example.com or call our helpline.\",\n",
        "    \"What features does the product have?\": \"Our chatbot has features like natural language understanding, integration with multiple platforms, and detailed analytics.\",\n",
        "}\n",
        "\n",
        "# Function to find the best matching FAQ answer\n",
        "def find_best_answer(user_query, faqs):\n",
        "    faq_keys = list(faqs.keys())\n",
        "    documents = [' '.join(preprocess(faq)) for faq in faq_keys]\n",
        "    user_query_processed = ' '.join(preprocess(user_query))\n",
        "\n",
        "    vectorizer = TfidfVectorizer()\n",
        "    all_text = documents + [user_query_processed]\n",
        "    tfidf_matrix = vectorizer.fit_transform(all_text)\n",
        "\n",
        "    similarity_scores = cosine_similarity(tfidf_matrix[-1], tfidf_matrix[:-1]).flatten()\n",
        "    best_match_idx = np.argmax(similarity_scores)\n",
        "\n",
        "    return faq_keys[best_match_idx], faqs[faq_keys[best_match_idx]]\n",
        "\n",
        "# Chatbot function\n",
        "def chatbot():\n",
        "    print(\"Welcome to the FAQ chatbot! Ask me anything about our product.\")\n",
        "\n",
        "    while True:\n",
        "        user_input = input(\"\\nYou: \")\n",
        "        if user_input.lower() in ['exit', 'quit', 'bye']:\n",
        "            print(\"Chatbot: Goodbye!\")\n",
        "            break\n",
        "\n",
        "        best_question, best_answer = find_best_answer(user_input, FAQS)\n",
        "        print(f\"Chatbot: {best_answer}\")\n",
        "\n",
        "# Run chatbot\n",
        "if __name__ == \"__main__\":\n",
        "    chatbot()\n"
      ]
    }
  ],
  "metadata": {
    "colab": {
      "provenance": [],
      "authorship_tag": "ABX9TyP1L8zOeRnBC66tW8ci4VbL"
    },
    "kernelspec": {
      "display_name": "Python 3",
      "name": "python3"
    },
    "language_info": {
      "name": "python"
    }
  },
  "nbformat": 4,
  "nbformat_minor": 0
}